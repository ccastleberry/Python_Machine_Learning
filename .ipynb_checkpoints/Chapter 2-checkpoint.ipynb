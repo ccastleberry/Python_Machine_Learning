{
 "cells": [
  {
   "cell_type": "markdown",
   "metadata": {},
   "source": [
    "# Training Machine Learning Algorithms for Classification"
   ]
  },
  {
   "cell_type": "markdown",
   "metadata": {
    "collapsed": true
   },
   "source": [
    "Goals for this chapter:\n",
    "* Build intuition for machine learning algorithms\n",
    "* Use Pandas, NumPy, and matplotlib to read in, process, and visualize data\n",
    "* Implement linear classification algorithms in Python"
   ]
  },
  {
   "cell_type": "markdown",
   "metadata": {},
   "source": [
    "## Perceptron"
   ]
  },
  {
   "cell_type": "markdown",
   "metadata": {},
   "source": [
    "The perceptron is used to classify a collection of data points into two seperate categories. it consists of a linear function on $\\mathbb{R}^n$ followed by an activation function. A couple notes on it:\n",
    "* Updates the wieghts after each data point passed through it.\n",
    "* Will converge if the data is linearly seperable\n",
    "* Not guarenteed to converge in any other cases. This means we must specify the number of passes over the training data."
   ]
  },
  {
   "cell_type": "code",
   "execution_count": 1,
   "metadata": {
    "collapsed": true
   },
   "outputs": [],
   "source": [
    "import pandas as pd\n",
    "import numpy as np\n",
    "import matplotlib.pyplot as plt\n",
    "%matplotlib notebook"
   ]
  },
  {
   "cell_type": "code",
   "execution_count": 2,
   "metadata": {
    "code_folding": [
     3,
     8,
     15,
     25,
     31,
     37
    ]
   },
   "outputs": [
    {
     "ename": "SyntaxError",
     "evalue": "invalid syntax (<ipython-input-2-c2b0ff51e714>, line 40)",
     "output_type": "error",
     "traceback": [
      "\u001b[0;36m  File \u001b[0;32m\"<ipython-input-2-c2b0ff51e714>\"\u001b[0;36m, line \u001b[0;32m40\u001b[0m\n\u001b[0;31m    for xi, target in zip(X,y)\u001b[0m\n\u001b[0m                              ^\u001b[0m\n\u001b[0;31mSyntaxError\u001b[0m\u001b[0;31m:\u001b[0m invalid syntax\n"
     ]
    }
   ],
   "source": [
    "class Perceptron(object):\n",
    "    '''Perceptron classifier\n",
    "    \n",
    "    Parameters:\n",
    "        eta: float\n",
    "            Learning Rate (0-1)\n",
    "        n_iter: int\n",
    "            passes over the training dataset\n",
    "    Attributes:\n",
    "        w_: 1d-array\n",
    "            Weights after fitting\n",
    "        errors_: list\n",
    "            Number of misclassifications in every epoch.\n",
    "    '''\n",
    "    \n",
    "    def __init__(self, eta=0.01, n_iter=10):\n",
    "        self.eta = eta\n",
    "        self.n_iter = n_iter\n",
    "    \n",
    "    \n",
    "        \n",
    "    \n",
    "    def fit(self, X, y):\n",
    "        '''Fit training data.\n",
    "        \n",
    "        Parameters:\n",
    "            X: {array-like}, shape = [n_samples, n_features]\n",
    "                Training vectors, where n_samplesis the number of rows\n",
    "                and n_features is the number of columns.\n",
    "            y: array-like, shape=[n_samples]\n",
    "                Target values.\n",
    "        Returns:\n",
    "            self.object\n",
    "        '''\n",
    "        self.w_ = np.zeros(1+X.shape[1])\n",
    "        self.errors_ = []\n",
    "        \n",
    "        for i in range(self.n_iter):            # Loop over number of epochs\n",
    "            errors = 0\n",
    "            for xi, target in zip(X,y):\n",
    "                update = self.eta*(target - self.product(xi))    # Error coefficient\n",
    "                self.w_[1:]+= update*xi                          # Update vector weights\n",
    "                self.w_[0]+=update                               # Update weight\n",
    "                errors += int(update != 0.0)                     # Incorrect classifications this epoch\n",
    "        return self\n",
    "    \n",
    "    def net_input(self, X):\n",
    "        '''Calculate net input.'''\n",
    "        return np.dot(X, self.w_[1:] + self.w_[0])\n",
    "    \n",
    "    def predict(self, X):\n",
    "        '''Return class label after unit step'''\n",
    "        return np.where(self.net_input(X) >= 0.0, 1, -1)"
   ]
  },
  {
   "cell_type": "code",
   "execution_count": null,
   "metadata": {
    "collapsed": true
   },
   "outputs": [],
   "source": []
  }
 ],
 "metadata": {
  "kernelspec": {
   "display_name": "Python 3",
   "language": "python",
   "name": "python3"
  },
  "language_info": {
   "codemirror_mode": {
    "name": "ipython",
    "version": 3
   },
   "file_extension": ".py",
   "mimetype": "text/x-python",
   "name": "python",
   "nbconvert_exporter": "python",
   "pygments_lexer": "ipython3",
   "version": "3.6.3"
  },
  "toc": {
   "nav_menu": {},
   "number_sections": true,
   "sideBar": true,
   "skip_h1_title": false,
   "toc_cell": false,
   "toc_position": {},
   "toc_section_display": "block",
   "toc_window_display": false
  }
 },
 "nbformat": 4,
 "nbformat_minor": 2
}
